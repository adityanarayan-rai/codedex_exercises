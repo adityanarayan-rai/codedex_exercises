{
 "cells": [
  {
   "cell_type": "markdown",
   "id": "700c4d53-37de-443a-894d-c9ac392b02b8",
   "metadata": {},
   "source": [
    "### Sorting Hat (For the Harry Potter Fans!)"
   ]
  },
  {
   "cell_type": "markdown",
   "id": "620dbea6-1a17-4877-9e5c-02460fc22b93",
   "metadata": {},
   "source": [
    "This notebook has code chunks from one of the exercises I completed as part of self-paced learning session at [Codedex](https://www.codedex.io/)."
   ]
  },
  {
   "cell_type": "markdown",
   "id": "7213f023-b6f8-46da-95bd-14bc9125c454",
   "metadata": {},
   "source": [
    "**This notebook has the code chunks for the following exercise:**\n",
    "\n",
    "The hat decides which of the four \"Houses\" each first-year student goes to:\n",
    "\n",
    "- 🦁 Gryffindor\n",
    "- 🦅 Ravenclaw\n",
    "- 🦡 Hufflepuff\n",
    "- 🐍 Slytherin\n",
    "\n",
    "Write a sorting_hat.py program that asks the user some questions using int() and places them into one of the Houses based on their answers:\n",
    "\n",
    "    Q1) Do you like Dawn or Dusk?\n",
    "        1) Dawn\n",
    "        2) Dusk\n",
    "\n",
    "    - If answer is equal to 1, Gryffindor and Ravenclaw both get a +1.\n",
    "    - Else if answer is equal to 2, Hufflepuff and Slytherin both get a +1.\n",
    "    - Else, output the message \"Wrong input.\"\n",
    "\n",
    "    Q2) When I’m dead, I want people to remember me as:\n",
    "        1) The Good\n",
    "        2) The Great\n",
    "        3) The Wise\n",
    "        4) The Bold\n",
    "\n",
    "    - If the answer is 1, Hufflepuff +2.\n",
    "    - Else if answer is 2, Slytherin +2.\n",
    "    - Else if answer is 3, Ravenclaw +2.\n",
    "    - Else if answer is 4, Gryffindor +2.\n",
    "    - Else, output the message \"Wrong input.\"\n",
    "\n",
    "    Q3) Which kind of instrument most pleases your ear?\n",
    "        1) The violin\n",
    "        2) The trumpet\n",
    "        3) The piano\n",
    "        4) The drum\n",
    "\n",
    "    - If the answer is 1, Slytherin +4.\n",
    "    - Else if the answer is 2, Hufflepuff +4.\n",
    "    - Else if the answer is 3, Ravenclaw +4.\n",
    "    - Else if the answer is 4, Gryffindor +4.\n",
    "    - Else, output \"Wrong input.\"\n",
    "\n",
    "Lastly, print out the house with the most points!"
   ]
  },
  {
   "cell_type": "markdown",
   "id": "c3278566-d3d5-4563-a9cb-c3e6d0f5a4e5",
   "metadata": {},
   "source": [
    "**Following is the code chunk:**"
   ]
  },
  {
   "cell_type": "code",
   "execution_count": 1,
   "id": "70092c3d-7562-4c29-aa1b-53f3f669f65a",
   "metadata": {},
   "outputs": [
    {
     "name": "stdout",
     "output_type": "stream",
     "text": [
      "Q1) Do you like Dawn or Dusk?\n",
      "1) Dawn\n",
      "2) Dusk\n"
     ]
    },
    {
     "name": "stdin",
     "output_type": "stream",
     "text": [
      "Your choice (1 or 2):  1\n"
     ]
    },
    {
     "name": "stdout",
     "output_type": "stream",
     "text": [
      "\n",
      "Q2) When I’m dead, I want people to remember me as:\n",
      "1) The Good\n",
      "2) The Great\n",
      "3) The Wise\n",
      "4) The Bold\n"
     ]
    },
    {
     "name": "stdin",
     "output_type": "stream",
     "text": [
      "Your choice (1, 2, 3, or 4):  1\n"
     ]
    },
    {
     "name": "stdout",
     "output_type": "stream",
     "text": [
      "\n",
      "Q3) Which kind of instrument most pleases your ear?\n",
      "1) The violin\n",
      "2) The trumpet\n",
      "3) The piano\n",
      "4) The drum\n"
     ]
    },
    {
     "name": "stdin",
     "output_type": "stream",
     "text": [
      "Your choice (1, 2, 3, or 4):  4\n"
     ]
    },
    {
     "name": "stdout",
     "output_type": "stream",
     "text": [
      "\n",
      "Congratulations! You belong to Gryffindor!\n"
     ]
    }
   ],
   "source": [
    "# Let's initialize a dictionary for accumulating points for each house\n",
    "points = {\n",
    "    \"Gryffindor\": 0,\n",
    "    \"Ravenclaw\": 0,\n",
    "    \"Hufflepuff\": 0,\n",
    "    \"Slytherin\": 0\n",
    "}\n",
    "\n",
    "# Now, let's print the Question 1 and the responses\n",
    "print(\"Q1) Do you like Dawn or Dusk?\")\n",
    "print(\"1) Dawn\")\n",
    "print(\"2) Dusk\")\n",
    "answer = int(input(\"Your choice (1 or 2): \"))\n",
    "\n",
    "# Now, let's assign points based on answer to Question 1\n",
    "if answer == 1:\n",
    "    points[\"Gryffindor\"] += 1\n",
    "    points[\"Ravenclaw\"] += 1\n",
    "elif answer == 2:\n",
    "    points[\"Hufflepuff\"] += 1\n",
    "    points[\"Slytherin\"] += 1\n",
    "else:\n",
    "    print(\"Wrong input.\")\n",
    "\n",
    "# Now, let's print the Question 2 and the responses\n",
    "print(\"\\nQ2) When I’m dead, I want people to remember me as:\")\n",
    "print(\"1) The Good\")\n",
    "print(\"2) The Great\")\n",
    "print(\"3) The Wise\")\n",
    "print(\"4) The Bold\")\n",
    "answer = int(input(\"Your choice (1, 2, 3, or 4): \"))\n",
    "\n",
    "# And, assign points based on answer to Question 2\n",
    "if answer == 1:\n",
    "    points[\"Hufflepuff\"] += 2\n",
    "elif answer == 2:\n",
    "    points[\"Slytherin\"] += 2\n",
    "elif answer == 3:\n",
    "    points[\"Ravenclaw\"] += 2\n",
    "elif answer == 4:\n",
    "    points[\"Gryffindor\"] += 2\n",
    "else:\n",
    "    print(\"Wrong input.\")\n",
    "\n",
    "# And, let's print the Question 3 and the responses\n",
    "print(\"\\nQ3) Which kind of instrument most pleases your ear?\")\n",
    "print(\"1) The violin\")\n",
    "print(\"2) The trumpet\")\n",
    "print(\"3) The piano\")\n",
    "print(\"4) The drum\")\n",
    "answer = int(input(\"Your choice (1, 2, 3, or 4): \"))\n",
    "\n",
    "# And, assign points based on answer to Question 3\n",
    "if answer == 1:\n",
    "    points[\"Slytherin\"] += 4\n",
    "elif answer == 2:\n",
    "    points[\"Hufflepuff\"] += 4\n",
    "elif answer == 3:\n",
    "    points[\"Ravenclaw\"] += 4\n",
    "elif answer == 4:\n",
    "    points[\"Gryffindor\"] += 4\n",
    "else:\n",
    "    print(\"Wrong input.\")\n",
    "\n",
    "# Also, determine the house with the most points\n",
    "house_with_most_points = max(points, key=points.get)\n",
    "\n",
    "# And finally, print out the house with the most points (and a congratulatory message!)\n",
    "print(\"\\nCongratulations! You belong to\", house_with_most_points + \"!\")"
   ]
  },
  {
   "cell_type": "code",
   "execution_count": null,
   "id": "db02c863-c1f7-4a53-a8b9-eb40dfe7792f",
   "metadata": {},
   "outputs": [],
   "source": []
  }
 ],
 "metadata": {
  "kernelspec": {
   "display_name": "Python 3 (ipykernel)",
   "language": "python",
   "name": "python3"
  },
  "language_info": {
   "codemirror_mode": {
    "name": "ipython",
    "version": 3
   },
   "file_extension": ".py",
   "mimetype": "text/x-python",
   "name": "python",
   "nbconvert_exporter": "python",
   "pygments_lexer": "ipython3",
   "version": "3.12.2"
  }
 },
 "nbformat": 4,
 "nbformat_minor": 5
}

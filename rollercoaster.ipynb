{
 "cells": [
  {
   "cell_type": "markdown",
   "id": "cd0280b8-7e3a-4b28-8e54-3335091735a6",
   "metadata": {},
   "source": [
    "### Rollercoaster (Are you eligible for the ride!)"
   ]
  },
  {
   "cell_type": "markdown",
   "id": "4bc99b37-f8f7-4311-8b40-fb7c0692f4af",
   "metadata": {},
   "source": [
    "This notebook has code chunks from one of the exercises I completed as part of self-paced learning session at [Codedex](https://www.codedex.io/home)."
   ]
  },
  {
   "cell_type": "markdown",
   "id": "c6bb9c3e-7c15-4943-918c-fc7f94cb2e37",
   "metadata": {},
   "source": [
    "**This notebook has the code chunks for the following exercise:**\n",
    "\n",
    "Ask the user what their height is and how many credits they have, and store the values in a height variable and a credits variable.\n",
    "\n",
    "Use a combination of relational and logical operators to create the rules:\n",
    "\n",
    "- If they are tall enough and have enough credits, print \"Enjoy the ride!\"\n",
    "- Else if they have enough credits, but they aren't tall enough, print \"You are not tall enough to ride.\"\n",
    "- Else if they are tall enough, but they don't have enough credits, print \"You don't have enough credits.\"\n",
    "- Else, print a message saying they have not met either requirement"
   ]
  },
  {
   "cell_type": "markdown",
   "id": "72d40d16-9771-4948-9c1d-751736c0e4be",
   "metadata": {},
   "source": [
    "**Following is the code chunk:**"
   ]
  },
  {
   "cell_type": "code",
   "execution_count": 1,
   "id": "c148d71c-7848-4468-8077-2654b71a4c43",
   "metadata": {},
   "outputs": [
    {
     "name": "stdin",
     "output_type": "stream",
     "text": [
      "Enter your height (in cm):  180\n",
      "Enter your credits:  0\n"
     ]
    },
    {
     "name": "stdout",
     "output_type": "stream",
     "text": [
      "You don't have enough credits.\n"
     ]
    }
   ],
   "source": [
    "# Let's set the minimum height and minimum credits\n",
    "min_height_for_ride = 137\n",
    "min_credits_for_ride = 10\n",
    "\n",
    "# Now, let's print the questions for the user to check on height and credit\n",
    "height = int(input(\"Enter your height (in cm): \"))\n",
    "credits = int(input(\"Enter your credits: \"))\n",
    "\n",
    "# Now, let's write the conditional arguments\n",
    "if height >= min_height_for_ride and credits >= min_credits_for_ride:\n",
    "  print(\"Enjoy the ride!\")\n",
    "elif height < min_height_for_ride and credits >= min_credits_for_ride:\n",
    "  print(\"You are not tall enough to ride.\")\n",
    "elif credits < min_credits_for_ride and height >= min_height_for_ride:\n",
    "  print(\"You don't have enough credits.\")\n",
    "else:\n",
    "  print(\"You are neither tall enough and not have enough credits to enjoy the ride\")"
   ]
  },
  {
   "cell_type": "code",
   "execution_count": null,
   "id": "c864df68-7062-4c26-8b5e-fa39ae769d99",
   "metadata": {},
   "outputs": [],
   "source": []
  }
 ],
 "metadata": {
  "kernelspec": {
   "display_name": "Python 3 (ipykernel)",
   "language": "python",
   "name": "python3"
  },
  "language_info": {
   "codemirror_mode": {
    "name": "ipython",
    "version": 3
   },
   "file_extension": ".py",
   "mimetype": "text/x-python",
   "name": "python",
   "nbconvert_exporter": "python",
   "pygments_lexer": "ipython3",
   "version": "3.12.2"
  }
 },
 "nbformat": 4,
 "nbformat_minor": 5
}

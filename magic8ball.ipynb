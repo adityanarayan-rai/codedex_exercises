{
 "cells": [
  {
   "cell_type": "markdown",
   "id": "e4d0a26f-e9ee-4488-af3a-3cbb6a73d94e",
   "metadata": {},
   "source": [
    "### Magic8Ball (Let the Ball Answer Your Doubts!)"
   ]
  },
  {
   "cell_type": "markdown",
   "id": "d815e20d-bba6-46a1-a5ce-b71ffba79a30",
   "metadata": {},
   "source": [
    "This notebook has code chunks from one of the exercises I completed as part of self-paced learning session at [Codedex](https://www.codedex.io/home)."
   ]
  },
  {
   "cell_type": "markdown",
   "id": "678d99e6-953b-43cb-a37d-062ac850e29f",
   "metadata": {},
   "source": [
    "This notebook has the code chunks for the following exercise:\n",
    "\n",
    "The Magic 8 Ball is a popular office toy and children's toy invented in the 1940s for fortune-telling and advice seeking. 🎱\n",
    "\n",
    "It's an oversized 8 ball with some of the following answers:\n",
    "\n",
    "- Yes - definitely.\n",
    "- It is decidedly so.\n",
    "- Without a doubt.\n",
    "- Reply hazy, try again.\n",
    "- Ask again later.\n",
    "- Better not tell you now.\n",
    "- My sources say no.\n",
    "- Outlook not so good.\n",
    "- Very doubtful.\n",
    "\n",
    "Create a magic8.py program that can respond to any Yes or No questions with a different answer each time it executes.\n",
    "\n",
    "The output should have the following format:\n",
    "\n",
    "    Question:      [Question]\n",
    "    Magic 8 Ball:  [Answer]"
   ]
  },
  {
   "cell_type": "code",
   "execution_count": 1,
   "id": "8bd952f2-8317-4929-bce2-89bba061c5f9",
   "metadata": {},
   "outputs": [
    {
     "name": "stdin",
     "output_type": "stream",
     "text": [
      "Question: Is my name Berlin?\n"
     ]
    },
    {
     "name": "stdout",
     "output_type": "stream",
     "text": [
      "Magic 8-Ball: Without a doubt.\n"
     ]
    }
   ],
   "source": [
    "# Let's import the library we need for this task\n",
    "import random\n",
    "\n",
    "# Let's write down the responses\n",
    "responses = [\n",
    "  \"Yes - definitely.\",\n",
    "  \"It is decidedly so.\",\n",
    "  \"Without a doubt.\",\n",
    "  \"Reply hazy, try again\",\n",
    "  \"Ask again later\",\n",
    "  \"Better not tell you now\",\n",
    "  \"My sources say no\",\n",
    "  \"Outlook not so good\",\n",
    "  \"Very doubtful\"\n",
    "]\n",
    "\n",
    "# Now, let's print the format where a user can ask the questions\n",
    "question = input(\"Question:\")\n",
    "\n",
    "# Finally, let's write the conditional arguments\n",
    "if question == question:\n",
    "  if question.strip():\n",
    "    print(\"Magic 8-Ball:\", random.choice(responses))\n",
    "  else:\n",
    "    print(\"Please ask a question.\")\n",
    "else:\n",
    "  pass"
   ]
  },
  {
   "cell_type": "code",
   "execution_count": null,
   "id": "66f5bf9a-8525-4e4b-b189-bf359b0be171",
   "metadata": {},
   "outputs": [],
   "source": []
  }
 ],
 "metadata": {
  "kernelspec": {
   "display_name": "Python 3 (ipykernel)",
   "language": "python",
   "name": "python3"
  },
  "language_info": {
   "codemirror_mode": {
    "name": "ipython",
    "version": 3
   },
   "file_extension": ".py",
   "mimetype": "text/x-python",
   "name": "python",
   "nbconvert_exporter": "python",
   "pygments_lexer": "ipython3",
   "version": "3.12.2"
  }
 },
 "nbformat": 4,
 "nbformat_minor": 5
}
